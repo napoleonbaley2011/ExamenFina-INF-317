{
  "nbformat": 4,
  "nbformat_minor": 0,
  "metadata": {
    "colab": {
      "provenance": []
    },
    "kernelspec": {
      "name": "python3",
      "display_name": "Python 3"
    },
    "language_info": {
      "name": "python"
    }
  },
  "cells": [
    {
      "cell_type": "code",
      "source": [
        "pip install mpi4py"
      ],
      "metadata": {
        "colab": {
          "base_uri": "https://localhost:8080/"
        },
        "id": "Owr-ZBsP5m_W",
        "outputId": "e368ffd0-4bc1-45bb-d1b6-4838f224409c"
      },
      "execution_count": 2,
      "outputs": [
        {
          "output_type": "stream",
          "name": "stdout",
          "text": [
            "Looking in indexes: https://pypi.org/simple, https://us-python.pkg.dev/colab-wheels/public/simple/\n",
            "Collecting mpi4py\n",
            "  Downloading mpi4py-3.1.4.tar.gz (2.5 MB)\n",
            "\u001b[2K     \u001b[90m━━━━━━━━━━━━━━━━━━━━━━━━━━━━━━━━━━━━━━━━\u001b[0m \u001b[32m2.5/2.5 MB\u001b[0m \u001b[31m25.6 MB/s\u001b[0m eta \u001b[36m0:00:00\u001b[0m\n",
            "\u001b[?25h  Installing build dependencies ... \u001b[?25l\u001b[?25hdone\n",
            "  Getting requirements to build wheel ... \u001b[?25l\u001b[?25hdone\n",
            "  Preparing metadata (pyproject.toml) ... \u001b[?25l\u001b[?25hdone\n",
            "Building wheels for collected packages: mpi4py\n",
            "  Building wheel for mpi4py (pyproject.toml) ... \u001b[?25l\u001b[?25hdone\n",
            "  Created wheel for mpi4py: filename=mpi4py-3.1.4-cp310-cp310-linux_x86_64.whl size=3365681 sha256=a6bf2d2969fe3f9ed8a816ca8b61afb39c08e81c9dec40d4dbe2b51eaeb9363c\n",
            "  Stored in directory: /root/.cache/pip/wheels/e8/1b/b5/97ec4cfccdde26e0f3590ad6e09a5242d508dff09704ef86c1\n",
            "Successfully built mpi4py\n",
            "Installing collected packages: mpi4py\n",
            "Successfully installed mpi4py-3.1.4\n"
          ]
        }
      ]
    },
    {
      "cell_type": "code",
      "execution_count": 3,
      "metadata": {
        "id": "AsxwrXR65X-j"
      },
      "outputs": [],
      "source": [
        "from mpi4py import MPI\n",
        "from multiprocessing import Pool"
      ]
    },
    {
      "cell_type": "code",
      "source": [
        "def is_palindrome(word):\n",
        "    return word == word[::-1]"
      ],
      "metadata": {
        "id": "mjzhk8sV6Af-"
      },
      "execution_count": 4,
      "outputs": []
    },
    {
      "cell_type": "code",
      "source": [
        "def mpi_palindrome(word):\n",
        "    comm = MPI.COMM_WORLD\n",
        "    rank = comm.Get_rank()\n",
        "    size = comm.Get_size()\n",
        "\n",
        "    if rank == 0:\n",
        "        # Dividir la palabra en partes para enviar a cada proceso\n",
        "        word_parts = [word[i::size] for i in range(size)]\n",
        "    else:\n",
        "        word_parts = None\n",
        "\n",
        "    # Distribuir las partes de la palabra a todos los procesos\n",
        "    word_part = comm.scatter(word_parts, root=0)\n",
        "\n",
        "    # Verificar si la parte de la palabra es un palíndromo\n",
        "    result = is_palindrome(word_part)\n",
        "\n",
        "    # Recopilar los resultados de cada proceso\n",
        "    results = comm.gather(result, root=0)\n",
        "\n",
        "    if rank == 0:\n",
        "        # Comprobar si todos los resultados son verdaderos para determinar si la palabra es un palíndromo\n",
        "        is_palindrome_word = all(results)\n",
        "        print(f\"La palabra '{word}' es un palíndromo: {is_palindrome_word}\")\n"
      ],
      "metadata": {
        "id": "sBlsWR6l6Dvu"
      },
      "execution_count": 5,
      "outputs": []
    },
    {
      "cell_type": "code",
      "source": [
        "def multiprocessing_palindrome(word):\n",
        "    pool = Pool()\n",
        "    result = pool.apply(is_palindrome, (word,))\n",
        "    pool.close()\n",
        "    pool.join()\n",
        "    print(f\"La palabra '{word}' es un palíndromo: {result}\")\n"
      ],
      "metadata": {
        "id": "qK7kWxTF6Hwe"
      },
      "execution_count": 6,
      "outputs": []
    },
    {
      "cell_type": "code",
      "source": [
        "if __name__ == \"__main__\":\n",
        "    word = \"reconocer\"  # Palabra de ejemplo\n",
        "\n",
        "    print(\"Resultado utilizando MPI:\")\n",
        "    mpi_palindrome(word)\n",
        "\n",
        "    print(\"\\nResultado utilizando multiprocessing:\")\n",
        "    multiprocessing_palindrome(word)"
      ],
      "metadata": {
        "colab": {
          "base_uri": "https://localhost:8080/"
        },
        "id": "pJlAt38C6K4e",
        "outputId": "51cc819a-cd79-4f03-8c2e-fb55cd860066"
      },
      "execution_count": 7,
      "outputs": [
        {
          "output_type": "stream",
          "name": "stdout",
          "text": [
            "Resultado utilizando MPI:\n",
            "La palabra 'reconocer' es un palíndromo: True\n",
            "\n",
            "Resultado utilizando multiprocessing:\n",
            "La palabra 'reconocer' es un palíndromo: True\n"
          ]
        }
      ]
    }
  ]
}