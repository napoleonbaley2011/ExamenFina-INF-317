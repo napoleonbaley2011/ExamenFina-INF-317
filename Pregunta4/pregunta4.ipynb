{
  "nbformat": 4,
  "nbformat_minor": 0,
  "metadata": {
    "colab": {
      "provenance": []
    },
    "kernelspec": {
      "name": "python3",
      "display_name": "Python 3"
    },
    "language_info": {
      "name": "python"
    }
  },
  "cells": [
    {
      "cell_type": "code",
      "execution_count": 1,
      "metadata": {
        "colab": {
          "base_uri": "https://localhost:8080/"
        },
        "id": "xjSU0GYM6nLm",
        "outputId": "0af11d8c-0aa7-4874-b080-ce57d0547de3"
      },
      "outputs": [
        {
          "output_type": "stream",
          "name": "stdout",
          "text": [
            "Looking in indexes: https://pypi.org/simple, https://us-python.pkg.dev/colab-wheels/public/simple/\n",
            "Collecting mpi4py\n",
            "  Downloading mpi4py-3.1.4.tar.gz (2.5 MB)\n",
            "\u001b[2K     \u001b[90m━━━━━━━━━━━━━━━━━━━━━━━━━━━━━━━━━━━━━━━━\u001b[0m \u001b[32m2.5/2.5 MB\u001b[0m \u001b[31m33.6 MB/s\u001b[0m eta \u001b[36m0:00:00\u001b[0m\n",
            "\u001b[?25h  Installing build dependencies ... \u001b[?25l\u001b[?25hdone\n",
            "  Getting requirements to build wheel ... \u001b[?25l\u001b[?25hdone\n",
            "  Preparing metadata (pyproject.toml) ... \u001b[?25l\u001b[?25hdone\n",
            "Building wheels for collected packages: mpi4py\n",
            "  Building wheel for mpi4py (pyproject.toml) ... \u001b[?25l\u001b[?25hdone\n",
            "  Created wheel for mpi4py: filename=mpi4py-3.1.4-cp310-cp310-linux_x86_64.whl size=3365665 sha256=63798d05bca0c6b0a3189571d22cc7e051acc922b0d053507a489dab358a7ed3\n",
            "  Stored in directory: /root/.cache/pip/wheels/e8/1b/b5/97ec4cfccdde26e0f3590ad6e09a5242d508dff09704ef86c1\n",
            "Successfully built mpi4py\n",
            "Installing collected packages: mpi4py\n",
            "Successfully installed mpi4py-3.1.4\n"
          ]
        }
      ],
      "source": [
        "pip install mpi4py"
      ]
    },
    {
      "cell_type": "code",
      "source": [
        "from mpi4py import MPI\n",
        "from multiprocessing import Pool\n"
      ],
      "metadata": {
        "id": "j1Qg48437gVe"
      },
      "execution_count": 2,
      "outputs": []
    },
    {
      "cell_type": "code",
      "source": [
        "def bbp_formula(n):\n",
        "    \"\"\"Fórmula de Bailey-Borwein-Plouffe para calcular el n-ésimo dígito hexadecimal de Pi\"\"\"\n",
        "    s = 0.0\n",
        "    for k in range(n):\n",
        "        s += (1/(16**k))*((4/(8*k+1)) - (2/(8*k+4)) - (1/(8*k+5)) - (1/(8*k+6)))\n",
        "    return s\n"
      ],
      "metadata": {
        "id": "O1bQAbYV7jcu"
      },
      "execution_count": 3,
      "outputs": []
    },
    {
      "cell_type": "code",
      "source": [
        "\n",
        "def mpi_pi(digits):\n",
        "    comm = MPI.COMM_WORLD\n",
        "    rank = comm.Get_rank()\n",
        "    size = comm.Get_size()\n",
        "\n",
        "    # Calcular la cantidad de dígitos para cada proceso\n",
        "    digits_per_process = digits // size\n",
        "    extra_digits = digits % size\n",
        "\n",
        "    # Calcular el rango de dígitos para el proceso actual\n",
        "    start_digit = rank * digits_per_process\n",
        "    end_digit = start_digit + digits_per_process\n",
        "    if rank == size - 1:\n",
        "        end_digit += extra_digits\n",
        "\n",
        "    # Calcular la suma parcial de dígitos en el rango dado\n",
        "    partial_sum = sum(bbp_formula(digit) for digit in range(start_digit, end_digit))\n",
        "\n",
        "    # Sumarizar las sumas parciales de cada proceso\n",
        "    total_sum = comm.reduce(partial_sum, op=MPI.SUM, root=0)\n",
        "\n",
        "    if rank == 0:\n",
        "        # Calcular el valor de Pi\n",
        "        pi = 1 / total_sum\n",
        "\n",
        "        # Imprimir el resultado\n",
        "        print(f\"Valor de Pi con {digits} dígitos decimales: {pi}\")"
      ],
      "metadata": {
        "id": "8d9U8ydT7k5u"
      },
      "execution_count": 4,
      "outputs": []
    },
    {
      "cell_type": "code",
      "source": [
        "def multiprocessing_pi(digits):\n",
        "    pool = Pool()\n",
        "    result = pool.map(bbp_formula, range(digits))\n",
        "    pi = 1 / sum(result)\n",
        "    pool.close()\n",
        "    pool.join()\n",
        "    print(f\"Valor de Pi con {digits} dígitos decimales: {pi}\")"
      ],
      "metadata": {
        "id": "T72qNyXy7p4W"
      },
      "execution_count": 5,
      "outputs": []
    },
    {
      "cell_type": "code",
      "source": [
        "if __name__ == \"__main__\":\n",
        "    digits = 1000  # Número de dígitos decimales de Pi a calcular\n",
        "\n",
        "    print(\"Resultado utilizando MPI:\")\n",
        "    mpi_pi(digits)\n",
        "\n",
        "    print(\"\\nResultado utilizando multiprocessing:\")\n",
        "    multiprocessing_pi(digits)"
      ],
      "metadata": {
        "colab": {
          "base_uri": "https://localhost:8080/"
        },
        "id": "6GtZ-hcP7uVH",
        "outputId": "1a9adef0-63fe-4f97-dc0b-85ba050176a7"
      },
      "execution_count": 6,
      "outputs": [
        {
          "output_type": "stream",
          "name": "stdout",
          "text": [
            "Resultado utilizando MPI:\n",
            "Valor de Pi con 1000 dígitos decimales: 0.00031862937105431375\n",
            "\n",
            "Resultado utilizando multiprocessing:\n",
            "Valor de Pi con 1000 dígitos decimales: 0.00031862937105431375\n"
          ]
        }
      ]
    }
  ]
}